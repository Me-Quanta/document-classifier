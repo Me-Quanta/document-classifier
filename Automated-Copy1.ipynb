{
 "cells": [
  {
   "cell_type": "code",
   "execution_count": 2,
   "metadata": {},
   "outputs": [],
   "source": [
    "import sklearn"
   ]
  },
  {
   "cell_type": "code",
   "execution_count": 3,
   "metadata": {},
   "outputs": [],
   "source": [
    "def naming(n):\n",
    "    name=''\n",
    "    if(n==1):\n",
    "        name='Computer Graphics'\n",
    "    elif(n==2):\n",
    "        name='MS Windows'\n",
    "    elif(n==3):\n",
    "        name='IBM Hardware'\n",
    "    elif(n==4):\n",
    "        name='Mac Hardware'\n",
    "    elif(n==0):\n",
    "        name='Athesim'\n",
    "    elif(n==18):\n",
    "        name='Christian'\n",
    "    elif(n==13):\n",
    "        name='Medical'\n",
    "    elif(n==5):\n",
    "        name='Windows X'\n",
    "    elif(n==6):\n",
    "        name='For Sale'\n",
    "    elif(n==7):\n",
    "        name='Automobile'\n",
    "    elif(n==8):\n",
    "        name='Motorcycle'\n",
    "    elif(n==9):\n",
    "        name='Baseball'\n",
    "    elif(n==10):\n",
    "        name='Hockey'\n",
    "    elif(n==11):\n",
    "        name='Cryptography'\n",
    "    elif(n==12):\n",
    "        name='Electronics'\n",
    "    elif(n==14):\n",
    "        name='Space'\n",
    "    elif(n==15):\n",
    "        name='Politics Guns'\n",
    "    elif(n==16):\n",
    "        name='Politics Mideast'\n",
    "    elif(n==17):\n",
    "        name='Politics Misc'\n",
    "    elif(n==19):\n",
    "        name='Religion Misc'\n",
    "    else:\n",
    "        name='No Class found'\n",
    "    return name"
   ]
  },
  {
   "cell_type": "code",
   "execution_count": 4,
   "metadata": {},
   "outputs": [],
   "source": [
    "import sklearn.datasets as skd\n",
    "categories = ['comp.graphics','comp.os.ms-windows.misc','comp.sys.ibm.pc.hardware',\n",
    "              'comp.sys.mac.hardware','alt.atheism','talk.religion.christian',\n",
    "              'sci.med','comp.windows.x','misc.forsale','rec.autos',\n",
    "             'rec.motorcycles','rec.sport.baseball','rec.sport.hockey','sci.crypt','sci.electronics',\n",
    "             'sci.space','talk.politics.guns','talk.politics.mideast','talk.politics.misc','talk.religion.misc']\n",
    "news_train = skd.load_files(r'C:\\Users\\Suraj Tiwari\\Desktop\\Text Classifier\\20_newsgroups',categories=categories,encoding='ISO-8859-1')\n",
    "news_test = skd.load_files(r'C:\\Users\\Suraj Tiwari\\Desktop\\Text Classifier\\mini_newsgroups',categories=categories,encoding='ISO-8859-1')"
   ]
  },
  {
   "cell_type": "code",
   "execution_count": 5,
   "metadata": {},
   "outputs": [
    {
     "data": {
      "text/plain": [
       "(20000,)"
      ]
     },
     "execution_count": 5,
     "metadata": {},
     "output_type": "execute_result"
    }
   ],
   "source": [
    "news_train.target.shape"
   ]
  },
  {
   "cell_type": "code",
   "execution_count": 6,
   "metadata": {},
   "outputs": [],
   "source": [
    "new_test_file = skd.load_files(r'C:\\Users\\Suraj Tiwari\\Desktop\\Text Classifier\\mini_newsgroups',categories=categories,encoding='ISO-8859-1')"
   ]
  },
  {
   "cell_type": "code",
   "execution_count": 7,
   "metadata": {},
   "outputs": [
    {
     "data": {
      "text/plain": [
       "(20000, 209403)"
      ]
     },
     "execution_count": 7,
     "metadata": {},
     "output_type": "execute_result"
    }
   ],
   "source": [
    "from sklearn.feature_extraction.text import CountVectorizer\n",
    "count_vect = CountVectorizer()\n",
    "x_train_tf= count_vect.fit_transform(news_train.data)\n",
    "x_train_tf.shape"
   ]
  },
  {
   "cell_type": "code",
   "execution_count": 8,
   "metadata": {},
   "outputs": [
    {
     "name": "stdout",
     "output_type": "stream",
     "text": [
      "20000\n",
      "2000\n"
     ]
    }
   ],
   "source": [
    "print(len(news_train.data))\n",
    "print(len(news_test.data))"
   ]
  },
  {
   "cell_type": "code",
   "execution_count": 24,
   "metadata": {},
   "outputs": [
    {
     "name": "stdout",
     "output_type": "stream",
     "text": [
      "Enter data for which you want to check: jesus is god is love i am christian\n"
     ]
    }
   ],
   "source": [
    "test_sample = input(\"Enter data for which you want to check: \")"
   ]
  },
  {
   "cell_type": "code",
   "execution_count": 25,
   "metadata": {},
   "outputs": [],
   "source": [
    "test_sample = [test_sample]"
   ]
  },
  {
   "cell_type": "code",
   "execution_count": 26,
   "metadata": {},
   "outputs": [
    {
     "data": {
      "text/plain": [
       "'jesus is god is love i am christian'"
      ]
     },
     "execution_count": 26,
     "metadata": {},
     "output_type": "execute_result"
    }
   ],
   "source": [
    "test_sample[0]"
   ]
  },
  {
   "cell_type": "code",
   "execution_count": 12,
   "metadata": {},
   "outputs": [
    {
     "data": {
      "text/plain": [
       "CountVectorizer(analyzer='word', binary=False, decode_error='strict',\n",
       "        dtype=<class 'numpy.int64'>, encoding='utf-8', input='content',\n",
       "        lowercase=True, max_df=1.0, max_features=None, min_df=1,\n",
       "        ngram_range=(1, 1), preprocessor=None, stop_words=None,\n",
       "        strip_accents=None, token_pattern='(?u)\\\\b\\\\w\\\\w+\\\\b',\n",
       "        tokenizer=None, vocabulary=None)"
      ]
     },
     "execution_count": 12,
     "metadata": {},
     "output_type": "execute_result"
    }
   ],
   "source": [
    "count_vect"
   ]
  },
  {
   "cell_type": "code",
   "execution_count": 13,
   "metadata": {},
   "outputs": [
    {
     "data": {
      "text/plain": [
       "<20000x209403 sparse matrix of type '<class 'numpy.int64'>'\n",
       "\twith 3982224 stored elements in Compressed Sparse Row format>"
      ]
     },
     "execution_count": 13,
     "metadata": {},
     "output_type": "execute_result"
    }
   ],
   "source": [
    "x_train_tf"
   ]
  },
  {
   "cell_type": "code",
   "execution_count": 14,
   "metadata": {},
   "outputs": [
    {
     "data": {
      "text/plain": [
       "(20000, 209403)"
      ]
     },
     "execution_count": 14,
     "metadata": {},
     "output_type": "execute_result"
    }
   ],
   "source": [
    "from sklearn.feature_extraction.text import TfidfTransformer as TT\n",
    "tfidf_transformer = TT()\n",
    "x_train_tfidf = tfidf_transformer.fit_transform(x_train_tf)\n",
    "x_train_tfidf.shape"
   ]
  },
  {
   "cell_type": "code",
   "execution_count": 15,
   "metadata": {},
   "outputs": [],
   "source": [
    "from sklearn.naive_bayes import MultinomialNB\n",
    "clf = MultinomialNB().fit(x_train_tfidf, news_train.target)"
   ]
  },
  {
   "cell_type": "code",
   "execution_count": 16,
   "metadata": {},
   "outputs": [
    {
     "data": {
      "text/plain": [
       "MultinomialNB(alpha=1.0, class_prior=None, fit_prior=True)"
      ]
     },
     "execution_count": 16,
     "metadata": {},
     "output_type": "execute_result"
    }
   ],
   "source": [
    "clf"
   ]
  },
  {
   "cell_type": "code",
   "execution_count": 31,
   "metadata": {},
   "outputs": [
    {
     "data": {
      "text/plain": [
       "(2000, 209403)"
      ]
     },
     "execution_count": 31,
     "metadata": {},
     "output_type": "execute_result"
    }
   ],
   "source": [
    "x_test_tf= count_vect.transform(news_test.data)\n",
    "x_test_tfidf = tfidf_transformer.transform(x_test_tf)\n",
    "x_test_tfidf.shape"
   ]
  },
  {
   "cell_type": "code",
   "execution_count": 32,
   "metadata": {},
   "outputs": [
    {
     "data": {
      "text/plain": [
       "(1, 209403)"
      ]
     },
     "execution_count": 32,
     "metadata": {},
     "output_type": "execute_result"
    }
   ],
   "source": [
    "test_sample_tf= count_vect.transform(test_sample)\n",
    "test_sample_tfidf = tfidf_transformer.transform(test_sample_tf)\n",
    "test_sample_tfidf.shape"
   ]
  },
  {
   "cell_type": "code",
   "execution_count": 33,
   "metadata": {},
   "outputs": [
    {
     "name": "stdout",
     "output_type": "stream",
     "text": [
      "[ 4 11 11 ... 16  8  6]\n"
     ]
    }
   ],
   "source": [
    "predicted=clf.predict(x_test_tfidf)\n",
    "print(predicted)"
   ]
  },
  {
   "cell_type": "code",
   "execution_count": 34,
   "metadata": {},
   "outputs": [],
   "source": [
    "predict_sample = clf.predict(test_sample_tfidf)"
   ]
  },
  {
   "cell_type": "code",
   "execution_count": 35,
   "metadata": {},
   "outputs": [
    {
     "name": "stdout",
     "output_type": "stream",
     "text": [
      "[18]\n"
     ]
    }
   ],
   "source": [
    "print(predict_sample)"
   ]
  },
  {
   "cell_type": "code",
   "execution_count": 36,
   "metadata": {},
   "outputs": [
    {
     "name": "stdout",
     "output_type": "stream",
     "text": [
      "Christian\n"
     ]
    }
   ],
   "source": [
    "print(naming(predict_sample))"
   ]
  },
  {
   "cell_type": "code",
   "execution_count": 23,
   "metadata": {},
   "outputs": [
    {
     "name": "stdout",
     "output_type": "stream",
     "text": [
      "Accuracy achieved is 0.943\n",
      "                          precision    recall  f1-score   support\n",
      "\n",
      "             alt.atheism       0.82      0.87      0.84       100\n",
      "           comp.graphics       0.96      0.94      0.95       100\n",
      " comp.os.ms-windows.misc       0.94      0.97      0.96       100\n",
      "comp.sys.ibm.pc.hardware       0.93      0.97      0.95       100\n",
      "   comp.sys.mac.hardware       0.99      0.96      0.97       100\n",
      "          comp.windows.x       0.98      0.93      0.95       100\n",
      "            misc.forsale       0.99      0.95      0.97       100\n",
      "               rec.autos       1.00      0.98      0.99       100\n",
      "         rec.motorcycles       0.98      1.00      0.99       100\n",
      "      rec.sport.baseball       0.98      0.98      0.98       100\n",
      "        rec.sport.hockey       0.98      0.99      0.99       100\n",
      "               sci.crypt       0.96      1.00      0.98       100\n",
      "         sci.electronics       0.97      0.95      0.96       100\n",
      "                 sci.med       1.00      0.97      0.98       100\n",
      "               sci.space       0.99      1.00      1.00       100\n",
      "      talk.politics.guns       0.84      0.99      0.91       100\n",
      "   talk.politics.mideast       0.96      0.99      0.98       100\n",
      "      talk.politics.misc       0.89      0.78      0.83       100\n",
      " talk.religion.christian       0.93      0.99      0.96       100\n",
      "      talk.religion.misc       0.77      0.65      0.71       100\n",
      "\n",
      "             avg / total       0.94      0.94      0.94      2000\n",
      "\n"
     ]
    },
    {
     "data": {
      "text/plain": [
       "array([[ 87,   0,   0,   0,   0,   0,   0,   0,   0,   0,   0,   0,   0,\n",
       "          0,   0,   0,   0,   2,   1,  10],\n",
       "       [  0,  94,   2,   0,   0,   2,   0,   0,   0,   0,   0,   0,   2,\n",
       "          0,   0,   0,   0,   0,   0,   0],\n",
       "       [  0,   0,  97,   3,   0,   0,   0,   0,   0,   0,   0,   0,   0,\n",
       "          0,   0,   0,   0,   0,   0,   0],\n",
       "       [  1,   0,   2,  97,   0,   0,   0,   0,   0,   0,   0,   0,   0,\n",
       "          0,   0,   0,   0,   0,   0,   0],\n",
       "       [  0,   0,   1,   2,  96,   0,   1,   0,   0,   0,   0,   0,   0,\n",
       "          0,   0,   0,   0,   0,   0,   0],\n",
       "       [  0,   1,   1,   0,   0,  93,   0,   0,   1,   0,   0,   3,   0,\n",
       "          0,   0,   1,   0,   0,   0,   0],\n",
       "       [  1,   0,   0,   0,   0,   0,  95,   0,   0,   1,   1,   0,   0,\n",
       "          0,   0,   1,   0,   1,   0,   0],\n",
       "       [  0,   0,   0,   0,   0,   0,   0,  98,   0,   0,   0,   0,   1,\n",
       "          0,   0,   1,   0,   0,   0,   0],\n",
       "       [  0,   0,   0,   0,   0,   0,   0,   0, 100,   0,   0,   0,   0,\n",
       "          0,   0,   0,   0,   0,   0,   0],\n",
       "       [  0,   0,   0,   0,   0,   0,   0,   0,   0,  98,   1,   0,   0,\n",
       "          0,   0,   0,   0,   0,   1,   0],\n",
       "       [  0,   0,   0,   0,   0,   0,   0,   0,   0,   0,  99,   0,   0,\n",
       "          0,   0,   0,   0,   1,   0,   0],\n",
       "       [  0,   0,   0,   0,   0,   0,   0,   0,   0,   0,   0, 100,   0,\n",
       "          0,   0,   0,   0,   0,   0,   0],\n",
       "       [  0,   2,   0,   2,   1,   0,   0,   0,   0,   0,   0,   0,  95,\n",
       "          0,   0,   0,   0,   0,   0,   0],\n",
       "       [  0,   0,   0,   0,   0,   0,   0,   0,   1,   0,   0,   0,   0,\n",
       "         97,   1,   0,   0,   1,   0,   0],\n",
       "       [  0,   0,   0,   0,   0,   0,   0,   0,   0,   0,   0,   0,   0,\n",
       "          0, 100,   0,   0,   0,   0,   0],\n",
       "       [  0,   0,   0,   0,   0,   0,   0,   0,   0,   0,   0,   1,   0,\n",
       "          0,   0,  99,   0,   0,   0,   0],\n",
       "       [  0,   0,   0,   0,   0,   0,   0,   0,   0,   1,   0,   0,   0,\n",
       "          0,   0,   0,  99,   0,   0,   0],\n",
       "       [  0,   0,   0,   0,   0,   0,   0,   0,   0,   0,   0,   0,   0,\n",
       "          0,   0,   9,   4,  78,   0,   9],\n",
       "       [  0,   1,   0,   0,   0,   0,   0,   0,   0,   0,   0,   0,   0,\n",
       "          0,   0,   0,   0,   0,  99,   0],\n",
       "       [ 17,   0,   0,   0,   0,   0,   0,   0,   0,   0,   0,   0,   0,\n",
       "          0,   0,   7,   0,   5,   6,  65]], dtype=int64)"
      ]
     },
     "execution_count": 23,
     "metadata": {},
     "output_type": "execute_result"
    }
   ],
   "source": [
    "from sklearn import metrics\n",
    "from sklearn.metrics import accuracy_score\n",
    "import numpy as np\n",
    "\n",
    "print('Accuracy achieved is ' + str(np.mean(predicted == news_test.target)))\n",
    "print(metrics.classification_report(news_test.target, predicted, target_names=news_test.target_names)),\n",
    "metrics.confusion_matrix(news_test.target, predicted)"
   ]
  },
  {
   "cell_type": "code",
   "execution_count": null,
   "metadata": {},
   "outputs": [],
   "source": []
  }
 ],
 "metadata": {
  "kernelspec": {
   "display_name": "Python 3",
   "language": "python",
   "name": "python3"
  },
  "language_info": {
   "codemirror_mode": {
    "name": "ipython",
    "version": 3
   },
   "file_extension": ".py",
   "mimetype": "text/x-python",
   "name": "python",
   "nbconvert_exporter": "python",
   "pygments_lexer": "ipython3",
   "version": "3.7.0"
  }
 },
 "nbformat": 4,
 "nbformat_minor": 2
}
